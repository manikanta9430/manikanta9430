{
 "cells": [
  {
   "cell_type": "markdown",
   "metadata": {},
   "source": [
    "## If-Else"
   ]
  },
  {
   "cell_type": "code",
   "execution_count": 7,
   "metadata": {},
   "outputs": [],
   "source": [
    "test_score = 76 #can change value\n",
    "passed = 40\n",
    "with_distinction = 90\n"
   ]
  },
  {
   "cell_type": "code",
   "execution_count": 8,
   "metadata": {},
   "outputs": [
    {
     "output_type": "stream",
     "name": "stdout",
     "text": [
      "You have passed!\n"
     ]
    }
   ],
   "source": [
    "if test_score >= with_distinction:\n",
    "    print(\"You're at the top! You’ve earned a distinction!\")\n",
    "\n",
    "if test_score >= passed and test_score < with_distinction:\n",
    "    print(\"You have passed!\")\n",
    "\n",
    "if test_score < passed:\n",
    "    print(\"Sorry! You have failed\")\n"
   ]
  },
  {
   "cell_type": "code",
   "execution_count": 9,
   "metadata": {},
   "outputs": [
    {
     "output_type": "stream",
     "name": "stdout",
     "text": [
      "First Division\n"
     ]
    }
   ],
   "source": [
    "if test_score==100:\n",
    "    print(\"Excellent\")\n",
    "elif  90<=test_score<100:\n",
    "    print(\"Distinction\")\n",
    "elif 65<=test_score<90:\n",
    "    print(\"First Division\")\n",
    "elif 40<=test_score<65:\n",
    "    print(\"Second Division\")\n",
    "else:\n",
    "    print(\"Fail\")\n"
   ]
  },
  {
   "cell_type": "code",
   "execution_count": 10,
   "metadata": {},
   "outputs": [
    {
     "output_type": "stream",
     "name": "stdout",
     "text": [
      "Its a bad review!\n"
     ]
    }
   ],
   "source": [
    "statement = \"The beverage is bad\"\n",
    "if 'bad' in statement:\n",
    "    print(\"Its a bad review!\")\n",
    "\n",
    "statement2 = \"This place great\"\n",
    "if 'bad' in statement2:\n",
    "    print(\"This is not a bad review\")\n"
   ]
  },
  {
   "cell_type": "code",
   "execution_count": 11,
   "metadata": {},
   "outputs": [
    {
     "output_type": "stream",
     "name": "stdout",
     "text": [
      "Even\ndivisible by 4\n"
     ]
    }
   ],
   "source": [
    "num = 24\n",
    "\n",
    "if num%2==0:\n",
    "    print(\"Even\")\n",
    "    if num%4==0:\n",
    "        print(\"divisible by 4\")\n",
    "    else:\n",
    "        print(\"Not divisible by 4\")\n",
    "else:\n",
    "    print(\"Odd\")\n",
    "    if num%3==0:\n",
    "        print(\"Divisible by 3\")\n",
    "    else:\n",
    "        print(\"Not divisible by 3\")\n"
   ]
  },
  {
   "cell_type": "code",
   "execution_count": 12,
   "metadata": {},
   "outputs": [
    {
     "output_type": "stream",
     "name": "stdout",
     "text": [
      "Is False\n"
     ]
    }
   ],
   "source": [
    "if None:\n",
    "    print(\"Is True\")\n",
    "else:\n",
    "    print(\"Is False\")"
   ]
  },
  {
   "cell_type": "markdown",
   "metadata": {},
   "source": [
    "## Switch"
   ]
  },
  {
   "cell_type": "code",
   "execution_count": 15,
   "metadata": {},
   "outputs": [],
   "source": [
    "def switch_demo(argument):\n",
    "    switcher = {\n",
    "        1: \"January\",\n",
    "        2: \"February\",\n",
    "        3: \"March\",\n",
    "        4: \"April\",\n",
    "        5: \"May\",\n",
    "        6: \"June\",\n",
    "        7: \"July\",\n",
    "        8: \"August\",\n",
    "        9: \"September\",\n",
    "        10: \"October\",\n",
    "        11: \"November\",\n",
    "        12: \"December\"\n",
    "    }\n",
    "    print (switcher.get(argument, \"Invalid month\"))"
   ]
  },
  {
   "cell_type": "code",
   "execution_count": 16,
   "metadata": {},
   "outputs": [
    {
     "output_type": "stream",
     "name": "stdout",
     "text": [
      "October\n"
     ]
    }
   ],
   "source": [
    "switch_demo(10)"
   ]
  },
  {
   "cell_type": "code",
   "execution_count": 17,
   "metadata": {},
   "outputs": [
    {
     "output_type": "stream",
     "name": "stdout",
     "text": [
      "Invalid month\n"
     ]
    }
   ],
   "source": [
    "switch_demo(4.5)"
   ]
  },
  {
   "cell_type": "code",
   "execution_count": null,
   "metadata": {},
   "outputs": [],
   "source": []
  }
 ],
 "metadata": {
  "anaconda-cloud": {},
  "kernelspec": {
   "name": "python385jvsc74a57bd0416b3b3d7c2861747334a644f3bc9cc09375166302abdd382b9b4cd7a6e01994",
   "display_name": "Python 3.8.5 32-bit"
  },
  "language_info": {
   "codemirror_mode": {
    "name": "ipython",
    "version": 3
   },
   "file_extension": ".py",
   "mimetype": "text/x-python",
   "name": "python",
   "nbconvert_exporter": "python",
   "pygments_lexer": "ipython3",
   "version": "3.8.5"
  },
  "metadata": {
   "interpreter": {
    "hash": "416b3b3d7c2861747334a644f3bc9cc09375166302abdd382b9b4cd7a6e01994"
   }
  }
 },
 "nbformat": 4,
 "nbformat_minor": 1
}